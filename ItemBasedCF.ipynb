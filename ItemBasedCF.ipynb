{
 "cells": [
  {
   "cell_type": "code",
   "execution_count": 21,
   "metadata": {},
   "outputs": [],
   "source": [
    "# Import some libraries we'll need\n",
    "import pandas as pd\n",
    "import numpy as np\n",
    "import matplotlib.pyplot as plt\n",
    "import math as math\n",
    "import scipy.sparse as sps\n",
    "from scipy.sparse import csr_matrix"
   ]
  },
  {
   "cell_type": "code",
   "execution_count": 22,
   "metadata": {},
   "outputs": [],
   "source": [
    "def read_review_data(file_name):\n",
    "    review_data = pd.read_csv(file_name)\n",
    "    print \"Sample Data\"\n",
    "    print \"-----------\"\n",
    "    print review_data.sample(5)\n",
    "    return review_data"
   ]
  },
  {
   "cell_type": "code",
   "execution_count": 23,
   "metadata": {},
   "outputs": [
    {
     "data": {
      "text/html": [
       "<div>\n",
       "<style scoped>\n",
       "    .dataframe tbody tr th:only-of-type {\n",
       "        vertical-align: middle;\n",
       "    }\n",
       "\n",
       "    .dataframe tbody tr th {\n",
       "        vertical-align: top;\n",
       "    }\n",
       "\n",
       "    .dataframe thead th {\n",
       "        text-align: right;\n",
       "    }\n",
       "</style>\n",
       "<table border=\"1\" class=\"dataframe\">\n",
       "  <thead>\n",
       "    <tr style=\"text-align: right;\">\n",
       "      <th></th>\n",
       "      <th>hours.Wednesday</th>\n",
       "      <th>attributes.RestaurantsDelivery</th>\n",
       "      <th>attributes.Open24Hours</th>\n",
       "      <th>attributes.DogsAllowed</th>\n",
       "      <th>attributes.CoatCheck</th>\n",
       "      <th>postal_code</th>\n",
       "      <th>attributes.Smoking</th>\n",
       "      <th>hours.Thursday</th>\n",
       "      <th>attributes.DietaryRestrictions</th>\n",
       "      <th>city</th>\n",
       "      <th>...</th>\n",
       "      <th>attributes.RestaurantsAttire</th>\n",
       "      <th>hours.Sunday</th>\n",
       "      <th>attributes.GoodForMeal</th>\n",
       "      <th>attributes.GoodForDancing</th>\n",
       "      <th>attributes.AcceptsInsurance</th>\n",
       "      <th>attributes.RestaurantsReservations</th>\n",
       "      <th>attributes</th>\n",
       "      <th>attributes.RestaurantsTakeOut</th>\n",
       "      <th>attributes.BikeParking</th>\n",
       "      <th>attributes.OutdoorSeating</th>\n",
       "    </tr>\n",
       "  </thead>\n",
       "  <tbody>\n",
       "    <tr>\n",
       "      <th>0</th>\n",
       "      <td>11:0-21:0</td>\n",
       "      <td>False</td>\n",
       "      <td>NaN</td>\n",
       "      <td>NaN</td>\n",
       "      <td>NaN</td>\n",
       "      <td>T2E 6L6</td>\n",
       "      <td>NaN</td>\n",
       "      <td>11:0-21:0</td>\n",
       "      <td>NaN</td>\n",
       "      <td>Calgary</td>\n",
       "      <td>...</td>\n",
       "      <td>casual</td>\n",
       "      <td>NaN</td>\n",
       "      <td>NaN</td>\n",
       "      <td>NaN</td>\n",
       "      <td>NaN</td>\n",
       "      <td>True</td>\n",
       "      <td>{'BusinessParking': \"{'garage': False, 'street...</td>\n",
       "      <td>True</td>\n",
       "      <td>False</td>\n",
       "      <td>False</td>\n",
       "    </tr>\n",
       "  </tbody>\n",
       "</table>\n",
       "<p>1 rows × 61 columns</p>\n",
       "</div>"
      ],
      "text/plain": [
       "  hours.Wednesday attributes.RestaurantsDelivery attributes.Open24Hours  \\\n",
       "0       11:0-21:0                          False                    NaN   \n",
       "\n",
       "  attributes.DogsAllowed attributes.CoatCheck postal_code attributes.Smoking  \\\n",
       "0                    NaN                  NaN     T2E 6L6                NaN   \n",
       "\n",
       "  hours.Thursday attributes.DietaryRestrictions     city  \\\n",
       "0      11:0-21:0                            NaN  Calgary   \n",
       "\n",
       "             ...            attributes.RestaurantsAttire hours.Sunday  \\\n",
       "0            ...                                  casual          NaN   \n",
       "\n",
       "  attributes.GoodForMeal attributes.GoodForDancing  \\\n",
       "0                    NaN                       NaN   \n",
       "\n",
       "  attributes.AcceptsInsurance  attributes.RestaurantsReservations  \\\n",
       "0                         NaN                                True   \n",
       "\n",
       "                                          attributes  \\\n",
       "0  {'BusinessParking': \"{'garage': False, 'street...   \n",
       "\n",
       "  attributes.RestaurantsTakeOut  attributes.BikeParking  \\\n",
       "0                          True                   False   \n",
       "\n",
       "  attributes.OutdoorSeating  \n",
       "0                     False  \n",
       "\n",
       "[1 rows x 61 columns]"
      ]
     },
     "execution_count": 23,
     "metadata": {},
     "output_type": "execute_result"
    }
   ],
   "source": [
    "business_data = pd.read_csv('business.csv')\n",
    "business_data.head(1)"
   ]
  },
  {
   "cell_type": "code",
   "execution_count": 24,
   "metadata": {},
   "outputs": [],
   "source": [
    "business_data.set_index('business_id', inplace = True)"
   ]
  },
  {
   "cell_type": "code",
   "execution_count": 25,
   "metadata": {},
   "outputs": [],
   "source": [
    "def get_restaurant_data(review_data, business_data):\n",
    "    review_data['city'] = review_data.apply(lambda x: business_data.loc[x['business_id'], 'city'], axis=1)\n",
    "    review_data['cat'] = review_data.apply(lambda x: business_data.loc[x['business_id'], 'categories'], axis=1)\n",
    "    restaurant_reviews = review_data[review_data['cat'].str.contains(\"Restaurants\",na=False)]\n",
    "    return restaurant_reviews"
   ]
  },
  {
   "cell_type": "code",
   "execution_count": 26,
   "metadata": {},
   "outputs": [],
   "source": [
    "def get_city_restaurant_data(city, restaurant_reviews):\n",
    "    city_rest_data = restaurant_reviews.loc[review_data['city'] == city]\n",
    "    return city_rest_data"
   ]
  },
  {
   "cell_type": "code",
   "execution_count": 27,
   "metadata": {},
   "outputs": [
    {
     "name": "stdout",
     "output_type": "stream",
     "text": [
      "Sample Data\n",
      "-----------\n",
      "                      user_id             business_id  stars\n",
      "62987  iS4NVHLQDt1IzmmMKqwy5A  ugf6qjoG5h6VXR5-vpq0Qw      4\n",
      "58296  C_hUvw2z0R-Rv0yZb6QCZA  osu1j_Lg8R9brpuMMn3a3A      4\n",
      "30575  5Wg5OanfZ4-2dCxEo-qjsw  3GEEy7RP6e4bT4LAiWFMFQ      2\n",
      "70489  f_5VRh79aew1cVWUmC1PJA  cOKf37Wb1oKc9X1Q5GHxsQ      5\n",
      "80204  qewG3X2O4X6JKskxyyqFwQ  t6WY1IrohUecqNjd9bG42Q      3\n",
      "-----------------------------\n",
      "Filtering the Restaurant data\n",
      "-----------------------------\n",
      "                  user_id             business_id  stars       city  \\\n",
      "0  AuIK5tF2GjO7SftHawTLKw  I-5qHCVwT7k_KH67-YOx3A      4  Henderson   \n",
      "2  AuIK5tF2GjO7SftHawTLKw  Zmfq3DVhHdtVChhSxzoUHw      4  Las Vegas   \n",
      "3  AuIK5tF2GjO7SftHawTLKw  pybIuTluqRhH_BQ3CJHlLw      5  Las Vegas   \n",
      "\n",
      "                                                 cat  \n",
      "0  Desserts, Restaurants, American (Traditional),...  \n",
      "2                                  Restaurants, Thai  \n",
      "3                                  Thai, Restaurants  \n",
      "-----------------------------\n",
      "restaurant reviews top 10 cities\n",
      "-----------------------------\n",
      "Las Vegas          70488\n",
      "Henderson           7384\n",
      "North Las Vegas      247\n",
      "Boulder City         214\n",
      "Spring Valley        112\n",
      "Summerlin             93\n",
      "Blue Diamond          58\n",
      "South Las Vegas       52\n",
      "Name: city, dtype: int64\n",
      "-----------------------------\n"
     ]
    }
   ],
   "source": [
    "review_data = read_review_data('40core.csv')\n",
    "print '-----------------------------'\n",
    "print 'Filtering the Restaurant data'\n",
    "print '-----------------------------'\n",
    "restaurant_reviews = get_restaurant_data(review_data, business_data)\n",
    "print restaurant_reviews.head(3)\n",
    "print '-----------------------------'\n",
    "print 'restaurant reviews top 10 cities'\n",
    "print '-----------------------------'\n",
    "print restaurant_reviews['city'].value_counts().head(10)\n",
    "print '-----------------------------'\n",
    "vegas_40 = get_city_restaurant_data('Las Vegas', restaurant_reviews)"
   ]
  },
  {
   "cell_type": "code",
   "execution_count": 28,
   "metadata": {},
   "outputs": [
    {
     "data": {
      "text/html": [
       "<div>\n",
       "<style scoped>\n",
       "    .dataframe tbody tr th:only-of-type {\n",
       "        vertical-align: middle;\n",
       "    }\n",
       "\n",
       "    .dataframe tbody tr th {\n",
       "        vertical-align: top;\n",
       "    }\n",
       "\n",
       "    .dataframe thead th {\n",
       "        text-align: right;\n",
       "    }\n",
       "</style>\n",
       "<table border=\"1\" class=\"dataframe\">\n",
       "  <thead>\n",
       "    <tr style=\"text-align: right;\">\n",
       "      <th></th>\n",
       "      <th>user_id</th>\n",
       "      <th>business_id</th>\n",
       "      <th>stars</th>\n",
       "      <th>city</th>\n",
       "      <th>cat</th>\n",
       "    </tr>\n",
       "  </thead>\n",
       "  <tbody>\n",
       "    <tr>\n",
       "      <th>2</th>\n",
       "      <td>AuIK5tF2GjO7SftHawTLKw</td>\n",
       "      <td>Zmfq3DVhHdtVChhSxzoUHw</td>\n",
       "      <td>4</td>\n",
       "      <td>Las Vegas</td>\n",
       "      <td>Restaurants, Thai</td>\n",
       "    </tr>\n",
       "    <tr>\n",
       "      <th>3</th>\n",
       "      <td>AuIK5tF2GjO7SftHawTLKw</td>\n",
       "      <td>pybIuTluqRhH_BQ3CJHlLw</td>\n",
       "      <td>5</td>\n",
       "      <td>Las Vegas</td>\n",
       "      <td>Thai, Restaurants</td>\n",
       "    </tr>\n",
       "    <tr>\n",
       "      <th>4</th>\n",
       "      <td>AuIK5tF2GjO7SftHawTLKw</td>\n",
       "      <td>SycXTaA4MeJZuDK4Y1owDQ</td>\n",
       "      <td>3</td>\n",
       "      <td>Las Vegas</td>\n",
       "      <td>Burgers, Restaurants, Bars, Nightlife, Sports ...</td>\n",
       "    </tr>\n",
       "    <tr>\n",
       "      <th>5</th>\n",
       "      <td>AuIK5tF2GjO7SftHawTLKw</td>\n",
       "      <td>5shgJB7a-2_gdnzc0gsOtg</td>\n",
       "      <td>5</td>\n",
       "      <td>Las Vegas</td>\n",
       "      <td>Restaurants, Tapas/Small Plates, Tapas Bars</td>\n",
       "    </tr>\n",
       "    <tr>\n",
       "      <th>6</th>\n",
       "      <td>AuIK5tF2GjO7SftHawTLKw</td>\n",
       "      <td>UvF68aNDfzCWQbxO6-647g</td>\n",
       "      <td>3</td>\n",
       "      <td>Las Vegas</td>\n",
       "      <td>Restaurants, Vietnamese, Sandwiches</td>\n",
       "    </tr>\n",
       "  </tbody>\n",
       "</table>\n",
       "</div>"
      ],
      "text/plain": [
       "                  user_id             business_id  stars       city  \\\n",
       "2  AuIK5tF2GjO7SftHawTLKw  Zmfq3DVhHdtVChhSxzoUHw      4  Las Vegas   \n",
       "3  AuIK5tF2GjO7SftHawTLKw  pybIuTluqRhH_BQ3CJHlLw      5  Las Vegas   \n",
       "4  AuIK5tF2GjO7SftHawTLKw  SycXTaA4MeJZuDK4Y1owDQ      3  Las Vegas   \n",
       "5  AuIK5tF2GjO7SftHawTLKw  5shgJB7a-2_gdnzc0gsOtg      5  Las Vegas   \n",
       "6  AuIK5tF2GjO7SftHawTLKw  UvF68aNDfzCWQbxO6-647g      3  Las Vegas   \n",
       "\n",
       "                                                 cat  \n",
       "2                                  Restaurants, Thai  \n",
       "3                                  Thai, Restaurants  \n",
       "4  Burgers, Restaurants, Bars, Nightlife, Sports ...  \n",
       "5        Restaurants, Tapas/Small Plates, Tapas Bars  \n",
       "6                Restaurants, Vietnamese, Sandwiches  "
      ]
     },
     "execution_count": 28,
     "metadata": {},
     "output_type": "execute_result"
    }
   ],
   "source": [
    "vegas_40.head()"
   ]
  },
  {
   "cell_type": "code",
   "execution_count": 29,
   "metadata": {},
   "outputs": [],
   "source": [
    "vegas_40.reset_index(inplace=True)"
   ]
  },
  {
   "cell_type": "code",
   "execution_count": 30,
   "metadata": {},
   "outputs": [],
   "source": [
    "cols = ['index', 'cat', 'city']\n",
    "vegas_40.drop(cols, inplace=True, axis=1)"
   ]
  },
  {
   "cell_type": "code",
   "execution_count": 31,
   "metadata": {},
   "outputs": [],
   "source": [
    "from surprise import Reader\n",
    "from surprise import Dataset\n",
    "from surprise.model_selection import cross_validate\n",
    "from surprise import NormalPredictor\n",
    "from surprise import KNNBasic\n",
    "from surprise import KNNWithMeans\n",
    "from surprise import KNNWithZScore\n",
    "from surprise import KNNBaseline\n",
    "from surprise import SVD\n",
    "from surprise import BaselineOnly\n",
    "from surprise import SVDpp\n",
    "from surprise import NMF\n",
    "from surprise import SlopeOne\n",
    "from surprise import CoClustering\n",
    "from surprise.accuracy import rmse\n",
    "from surprise import accuracy\n",
    "from surprise.model_selection import train_test_split"
   ]
  },
  {
   "cell_type": "code",
   "execution_count": 32,
   "metadata": {},
   "outputs": [],
   "source": [
    "reader = Reader(rating_scale=(1, 5))\n",
    "data = Dataset.load_from_df(vegas_40[['user_id', 'business_id', 'stars']], reader)"
   ]
  },
  {
   "cell_type": "code",
   "execution_count": 15,
   "metadata": {},
   "outputs": [
    {
     "name": "stdout",
     "output_type": "stream",
     "text": [
      "Estimating biases using als...\n",
      "Computing the pearson_baseline similarity matrix...\n",
      "Done computing similarity matrix.\n"
     ]
    }
   ],
   "source": [
    "sim_options = {'name': 'pearson_baseline',\n",
    "               'user_based': False  # compute  similarities between items\n",
    "               }\n",
    "algorithm = KNNWithMeans(sim_options=sim_options, k=40)\n",
    "trainset, testset = train_test_split(data, test_size=0.25)\n",
    "predictions = algorithm.fit(trainset).test(testset)"
   ]
  },
  {
   "cell_type": "code",
   "execution_count": 16,
   "metadata": {},
   "outputs": [
    {
     "name": "stdout",
     "output_type": "stream",
     "text": [
      "MAE:  0.8993\n"
     ]
    },
    {
     "data": {
      "text/plain": [
       "0.8993226671956376"
      ]
     },
     "execution_count": 16,
     "metadata": {},
     "output_type": "execute_result"
    }
   ],
   "source": [
    "accuracy.mae(predictions)"
   ]
  },
  {
   "cell_type": "code",
   "execution_count": 17,
   "metadata": {},
   "outputs": [
    {
     "name": "stdout",
     "output_type": "stream",
     "text": [
      "Estimating biases using als...\n",
      "Computing the pearson_baseline similarity matrix...\n",
      "Done computing similarity matrix.\n",
      "MAE:  0.8992\n"
     ]
    },
    {
     "data": {
      "text/plain": [
       "0.8992403657562748"
      ]
     },
     "execution_count": 17,
     "metadata": {},
     "output_type": "execute_result"
    }
   ],
   "source": [
    "sim_options = {'name': 'pearson_baseline',\n",
    "               'user_based': False  # compute  similarities between items\n",
    "               }\n",
    "algorithm = KNNWithMeans(sim_options=sim_options, k=50)\n",
    "predictions = algorithm.fit(trainset).test(testset)\n",
    "accuracy.mae(predictions)"
   ]
  },
  {
   "cell_type": "code",
   "execution_count": 19,
   "metadata": {},
   "outputs": [
    {
     "name": "stdout",
     "output_type": "stream",
     "text": [
      "Estimating biases using als...\n",
      "Computing the pearson_baseline similarity matrix...\n",
      "Done computing similarity matrix.\n",
      "MAE:  0.8993\n",
      "Estimating biases using als...\n",
      "Computing the pearson_baseline similarity matrix...\n",
      "Done computing similarity matrix.\n",
      "MAE:  0.8992\n",
      "Estimating biases using als...\n",
      "Computing the pearson_baseline similarity matrix...\n",
      "Done computing similarity matrix.\n",
      "MAE:  0.8992\n",
      "Estimating biases using als...\n",
      "Computing the pearson_baseline similarity matrix...\n",
      "Done computing similarity matrix.\n",
      "MAE:  0.8992\n",
      "Estimating biases using als...\n",
      "Computing the pearson_baseline similarity matrix...\n",
      "Done computing similarity matrix.\n",
      "MAE:  0.8992\n",
      "Estimating biases using als...\n",
      "Computing the pearson_baseline similarity matrix...\n",
      "Done computing similarity matrix.\n",
      "MAE:  0.8992\n",
      "Estimating biases using als...\n",
      "Computing the pearson_baseline similarity matrix...\n",
      "Done computing similarity matrix.\n",
      "MAE:  0.8992\n"
     ]
    },
    {
     "data": {
      "image/png": "[encoded data removed]",
      "text/plain": [
       "<Figure size 432x288 with 1 Axes>"
      ]
     },
     "metadata": {},
     "output_type": "display_data"
    }
   ],
   "source": [
    "sim_options = {'name': 'pearson_baseline',\n",
    "               'user_based': False  # compute  similarities between items\n",
    "               }\n",
    "k_list = [40,50,60,70,80,90,100]\n",
    "res = []\n",
    "for i in k_list:\n",
    "    algorithm = KNNWithMeans(sim_options=sim_options, k=i)\n",
    "    predictions = algorithm.fit(trainset).test(testset)\n",
    "    res.append(accuracy.mae(predictions))\n",
    "plt.plot(k_list, res)\n",
    "plt.title('15 core item neighbors analysis')\n",
    "plt.xlabel('num of neighbors')\n",
    "plt.ylabel('Mean absolute error')\n",
    "plt.show()"
   ]
  },
  {
   "cell_type": "code",
   "execution_count": 20,
   "metadata": {},
   "outputs": [
    {
     "name": "stdout",
     "output_type": "stream",
     "text": [
      "Estimating biases using als...\n",
      "Computing the pearson_baseline similarity matrix...\n",
      "Done computing similarity matrix.\n",
      "MAE:  0.9077\n",
      "Estimating biases using als...\n",
      "Computing the pearson_baseline similarity matrix...\n",
      "Done computing similarity matrix.\n",
      "MAE:  0.9075\n",
      "Estimating biases using als...\n",
      "Computing the pearson_baseline similarity matrix...\n",
      "Done computing similarity matrix.\n",
      "MAE:  0.9075\n",
      "Estimating biases using als...\n",
      "Computing the pearson_baseline similarity matrix...\n",
      "Done computing similarity matrix.\n",
      "MAE:  0.9075\n",
      "Estimating biases using als...\n",
      "Computing the pearson_baseline similarity matrix...\n",
      "Done computing similarity matrix.\n",
      "MAE:  0.9075\n",
      "Estimating biases using als...\n",
      "Computing the pearson_baseline similarity matrix...\n",
      "Done computing similarity matrix.\n",
      "MAE:  0.9075\n",
      "Estimating biases using als...\n",
      "Computing the pearson_baseline similarity matrix...\n",
      "Done computing similarity matrix.\n",
      "MAE:  0.9074\n"
     ]
    },
    {
     "data": {
      "image/png": "[encoded data removed]",
      "text/plain": [
       "<Figure size 432x288 with 1 Axes>"
      ]
     },
     "metadata": {},
     "output_type": "display_data"
    }
   ],
   "source": [
    "sim_options = {'name': 'pearson_baseline',\n",
    "               'user_based': True  # compute  similarities between items\n",
    "               }\n",
    "k_list = [40,50,60,70,80,90,100]\n",
    "res = []\n",
    "for i in k_list:\n",
    "    algorithm = KNNWithMeans(sim_options=sim_options, k=i)\n",
    "    predictions = algorithm.fit(trainset).test(testset)\n",
    "    res.append(accuracy.mae(predictions))\n",
    "plt.plot(k_list, res)\n",
    "plt.title('15 core user neighbors analysis')\n",
    "plt.xlabel('num of neighbors')\n",
    "plt.ylabel('Mean absolute error')\n",
    "plt.show()"
   ]
  },
  {
   "cell_type": "code",
   "execution_count": 33,
   "metadata": {},
   "outputs": [
    {
     "name": "stdout",
     "output_type": "stream",
     "text": [
      "Estimating biases using als...\n",
      "Computing the pearson_baseline similarity matrix...\n",
      "Done computing similarity matrix.\n",
      "MAE:  0.8993\n",
      "Estimating biases using als...\n",
      "Computing the pearson_baseline similarity matrix...\n",
      "Done computing similarity matrix.\n",
      "MAE:  0.8992\n",
      "Estimating biases using als...\n",
      "Computing the pearson_baseline similarity matrix...\n",
      "Done computing similarity matrix.\n",
      "MAE:  0.8992\n",
      "Estimating biases using als...\n",
      "Computing the pearson_baseline similarity matrix...\n",
      "Done computing similarity matrix.\n",
      "MAE:  0.8992\n",
      "Estimating biases using als...\n",
      "Computing the pearson_baseline similarity matrix...\n",
      "Done computing similarity matrix.\n",
      "MAE:  0.8992\n",
      "Estimating biases using als...\n",
      "Computing the pearson_baseline similarity matrix...\n",
      "Done computing similarity matrix.\n",
      "MAE:  0.8992\n",
      "Estimating biases using als...\n",
      "Computing the pearson_baseline similarity matrix...\n",
      "Done computing similarity matrix.\n",
      "MAE:  0.8992\n"
     ]
    },
    {
     "data": {
      "image/png": "[encoded data removed]",
      "text/plain": [
       "<Figure size 432x288 with 1 Axes>"
      ]
     },
     "metadata": {},
     "output_type": "display_data"
    }
   ],
   "source": [
    "sim_options = {'name': 'pearson_baseline',\n",
    "               'user_based': False  # compute  similarities between items\n",
    "               }\n",
    "k_list = [40,50,60,70,80,90,100]\n",
    "res = []\n",
    "for i in k_list:\n",
    "    algorithm = KNNWithMeans(sim_options=sim_options, k=i)\n",
    "    predictions = algorithm.fit(trainset).test(testset)\n",
    "    res.append(accuracy.mae(predictions))\n",
    "plt.plot(k_list, res)\n",
    "plt.title('40 core item neighbors analysis')\n",
    "plt.xlabel('num of neighbors')\n",
    "plt.ylabel('Mean absolute error')\n",
    "plt.show()"
   ]
  },
  {
   "cell_type": "code",
   "execution_count": 34,
   "metadata": {},
   "outputs": [
    {
     "name": "stdout",
     "output_type": "stream",
     "text": [
      "Estimating biases using als...\n",
      "Computing the pearson_baseline similarity matrix...\n",
      "Done computing similarity matrix.\n",
      "MAE:  0.9077\n",
      "Estimating biases using als...\n",
      "Computing the pearson_baseline similarity matrix...\n",
      "Done computing similarity matrix.\n",
      "MAE:  0.9075\n",
      "Estimating biases using als...\n",
      "Computing the pearson_baseline similarity matrix...\n",
      "Done computing similarity matrix.\n",
      "MAE:  0.9075\n",
      "Estimating biases using als...\n",
      "Computing the pearson_baseline similarity matrix...\n",
      "Done computing similarity matrix.\n",
      "MAE:  0.9075\n",
      "Estimating biases using als...\n",
      "Computing the pearson_baseline similarity matrix...\n",
      "Done computing similarity matrix.\n",
      "MAE:  0.9075\n",
      "Estimating biases using als...\n",
      "Computing the pearson_baseline similarity matrix...\n",
      "Done computing similarity matrix.\n",
      "MAE:  0.9075\n",
      "Estimating biases using als...\n",
      "Computing the pearson_baseline similarity matrix...\n",
      "Done computing similarity matrix.\n",
      "MAE:  0.9074\n"
     ]
    },
    {
     "data": {
      "image/png": "[encoded data removed]",
      "text/plain": [
       "<Figure size 432x288 with 1 Axes>"
      ]
     },
     "metadata": {},
     "output_type": "display_data"
    }
   ],
   "source": [
    "sim_options = {'name': 'pearson_baseline',\n",
    "               'user_based': True  # compute  similarities between items\n",
    "               }\n",
    "k_list = [40,50,60,70,80,90,100]\n",
    "res = []\n",
    "for i in k_list:\n",
    "    algorithm = KNNWithMeans(sim_options=sim_options, k=i)\n",
    "    predictions = algorithm.fit(trainset).test(testset)\n",
    "    res.append(accuracy.mae(predictions))\n",
    "plt.plot(k_list, res)\n",
    "plt.title('40 core user neighbors analysis')\n",
    "plt.xlabel('num of neighbors')\n",
    "plt.ylabel('Mean absolute error')\n",
    "plt.show()"
   ]
  },
  {
   "cell_type": "code",
   "execution_count": null,
   "metadata": {},
   "outputs": [],
   "source": []
  }
 ],
 "metadata": {
  "kernelspec": {
   "display_name": "Python 2",
   "language": "python",
   "name": "python2"
  },
  "language_info": {
   "codemirror_mode": {
    "name": "ipython",
    "version": 2
   },
   "file_extension": ".py",
   "mimetype": "text/x-python",
   "name": "python",
   "nbconvert_exporter": "python",
   "pygments_lexer": "ipython2",
   "version": "2.7.15"
  }
 },
 "nbformat": 4,
 "nbformat_minor": 2
}
