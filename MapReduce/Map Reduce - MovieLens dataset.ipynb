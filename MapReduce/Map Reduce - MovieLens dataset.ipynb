{
 "cells": [
  {
   "cell_type": "markdown",
   "metadata": {},
   "source": [
    "### MapReduce Paradigm"
   ]
  },
  {
   "cell_type": "markdown",
   "metadata": {},
   "source": [
    "MapReduce basically does two things \"maps data\" and \"reduces data\". When we get data line by line it transforms the data and extract the values or data it carries and then aggregates it into a stucture that makes sense.\n",
    "\n",
    "Mapper takes the input data converts it into key/value pairs."
   ]
  },
  {
   "cell_type": "markdown",
   "metadata": {},
   "source": [
    "I am going to explain Map Reduce technique by applying it on the movie lens dataset. I have taken this dataset from this link. In this we can find any size of the dataset but, since I am working on just a single PC, I have chosen an older dataset(i.e movielens 100K) which is of size 5MB. This dataset contains around 100,000 rating on 1700 movies from nearly 1000 users. This dataset contains contains 2 files u.data file which contains the users rating for movies. It has files like USER_ID, MOVIE_ID, RATING(on a scale of five) and TIMESTAMP.   There is also another file 'u.item' which contains the details(metadata) about the movies like  movie_ID, movie_Name, year_of_Release, imdb_url, and  18 different genres in each column separated by pipe with value as '0' if it is not there in the movie and '1' if it is present in the movie."
   ]
  },
  {
   "cell_type": "code",
   "execution_count": null,
   "metadata": {},
   "outputs": [],
   "source": []
  },
  {
   "cell_type": "code",
   "execution_count": 1,
   "metadata": {},
   "outputs": [
    {
     "name": "stderr",
     "output_type": "stream",
     "text": [
      "usage: usage: ipykernel_launcher.py [options] [input files]\n",
      "ipykernel_launcher.py: error: unrecognized arguments: -f\n"
     ]
    },
    {
     "ename": "SystemExit",
     "evalue": "2",
     "output_type": "error",
     "traceback": [
      "An exception has occurred, use %tb to see the full traceback.\n",
      "\u001b[1;31mSystemExit\u001b[0m\u001b[1;31m:\u001b[0m 2\n"
     ]
    },
    {
     "name": "stderr",
     "output_type": "stream",
     "text": [
      "C:\\Users\\nikit\\Anaconda3\\envs\\Basic RecSys\\lib\\site-packages\\IPython\\core\\interactiveshell.py:2886: UserWarning: To exit: use 'exit', 'quit', or Ctrl-D.\n",
      "  warn(\"To exit: use 'exit', 'quit', or Ctrl-D.\", stacklevel=1)\n"
     ]
    }
   ],
   "source": [
    "# %load code\\Ratings.py\n",
    "from mrjob.job import MRJob\n",
    "from mrjob.step import MRStep\n",
    "\n",
    "class Ratings(MRJob):\n",
    "    def steps(self):\n",
    "        return [MRStep(mapper = self.ratingsMapper, reducer = self.ratingsReducer)]\n",
    "    \n",
    "    def ratingsMapper(self, _, line):\n",
    "        (userID, movieID, rating, timestamp) = line.split('\\t')\n",
    "        yield rating,1\n",
    "    \n",
    "    def ratingsReducer(self, key, values):\n",
    "        yield key, sum(values)\n",
    "        \n",
    "if __name__ == '__main__':\n",
    "    Ratings.run()\n"
   ]
  },
  {
   "cell_type": "code",
   "execution_count": 2,
   "metadata": {},
   "outputs": [
    {
     "name": "stderr",
     "output_type": "stream",
     "text": [
      "No configs found; falling back on auto-configuration\n",
      "No configs specified for inline runner\n",
      "Running step 1 of 1...\n",
      "Creating temp directory c:\\users\\nikit\\appdata\\local\\temp\\Ratings.nikit.20181022.030233.851000\n",
      "Streaming final output from c:\\users\\nikit\\appdata\\local\\temp\\Ratings.nikit.20181022.030233.851000\\output...\n"
     ]
    },
    {
     "name": "stdout",
     "output_type": "stream",
     "text": [
      "\"1\"\t6110\n",
      "\"2\"\t11370\n",
      "\"3\"\t27145\n",
      "\"4\"\t34174\n",
      "\"5\"\t21201\n"
     ]
    },
    {
     "name": "stderr",
     "output_type": "stream",
     "text": [
      "Removing temp directory c:\\users\\nikit\\appdata\\local\\temp\\Ratings.nikit.20181022.030233.851000...\n",
      "[Error 5] Access is denied: u'c:\\\\users\\\\nikit\\\\appdata\\\\local\\\\temp\\\\Ratings.nikit.20181022.030233.851000\\\\step\\\\000\\\\cache\\\\Ratings.py'\n",
      "Traceback (most recent call last):\n",
      "  File \"C:\\Users\\nikit\\Anaconda3\\envs\\Basic RecSys\\lib\\site-packages\\mrjob\\runner.py\", line 606, in _cleanup_local_tmp\n",
      "    shutil.rmtree(self._local_tmp_dir)\n",
      "  File \"C:\\Users\\nikit\\Anaconda3\\envs\\Basic RecSys\\lib\\shutil.py\", line 261, in rmtree\n",
      "    rmtree(fullname, ignore_errors, onerror)\n",
      "  File \"C:\\Users\\nikit\\Anaconda3\\envs\\Basic RecSys\\lib\\shutil.py\", line 261, in rmtree\n",
      "    rmtree(fullname, ignore_errors, onerror)\n",
      "  File \"C:\\Users\\nikit\\Anaconda3\\envs\\Basic RecSys\\lib\\shutil.py\", line 261, in rmtree\n",
      "    rmtree(fullname, ignore_errors, onerror)\n",
      "  File \"C:\\Users\\nikit\\Anaconda3\\envs\\Basic RecSys\\lib\\shutil.py\", line 266, in rmtree\n",
      "    onerror(os.remove, fullname, sys.exc_info())\n",
      "  File \"C:\\Users\\nikit\\Anaconda3\\envs\\Basic RecSys\\lib\\shutil.py\", line 264, in rmtree\n",
      "    os.remove(fullname)\n",
      "WindowsError: [Error 5] Access is denied: u'c:\\\\users\\\\nikit\\\\appdata\\\\local\\\\temp\\\\Ratings.nikit.20181022.030233.851000\\\\step\\\\000\\\\cache\\\\Ratings.py'\n"
     ]
    }
   ],
   "source": [
    "%run code/Ratings.py data/u.data"
   ]
  },
  {
   "cell_type": "code",
   "execution_count": null,
   "metadata": {},
   "outputs": [],
   "source": []
  }
 ],
 "metadata": {
  "kernelspec": {
   "display_name": "Python 2",
   "language": "python",
   "name": "python2"
  },
  "language_info": {
   "codemirror_mode": {
    "name": "ipython",
    "version": 2
   },
   "file_extension": ".py",
   "mimetype": "text/x-python",
   "name": "python",
   "nbconvert_exporter": "python",
   "pygments_lexer": "ipython2",
   "version": "2.7.15"
  }
 },
 "nbformat": 4,
 "nbformat_minor": 2
}
