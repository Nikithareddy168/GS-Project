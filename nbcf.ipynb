{
 "cells": [
  {
   "cell_type": "code",
   "execution_count": 72,
   "metadata": {},
   "outputs": [],
   "source": [
    "# Import some libraries we'll need\n",
    "import pandas as pd\n",
    "import numpy as np\n",
    "import matplotlib.pyplot as plt\n",
    "import math as math\n",
    "import scipy.sparse as sps\n",
    "from sklearn.model_selection import train_test_split"
   ]
  },
  {
   "cell_type": "code",
   "execution_count": 35,
   "metadata": {},
   "outputs": [],
   "source": [
    "def read_review_data(file_name):\n",
    "    review_data = pd.read_csv(file_name)\n",
    "    print \"Sample Data\"\n",
    "    print \"-----------\"\n",
    "    print review_data.sample(5)\n",
    "    return review_data"
   ]
  },
  {
   "cell_type": "code",
   "execution_count": 36,
   "metadata": {},
   "outputs": [
    {
     "data": {
      "text/html": [
       "<div>\n",
       "<style scoped>\n",
       "    .dataframe tbody tr th:only-of-type {\n",
       "        vertical-align: middle;\n",
       "    }\n",
       "\n",
       "    .dataframe tbody tr th {\n",
       "        vertical-align: top;\n",
       "    }\n",
       "\n",
       "    .dataframe thead th {\n",
       "        text-align: right;\n",
       "    }\n",
       "</style>\n",
       "<table border=\"1\" class=\"dataframe\">\n",
       "  <thead>\n",
       "    <tr style=\"text-align: right;\">\n",
       "      <th></th>\n",
       "      <th>hours.Wednesday</th>\n",
       "      <th>attributes.RestaurantsDelivery</th>\n",
       "      <th>attributes.Open24Hours</th>\n",
       "      <th>attributes.DogsAllowed</th>\n",
       "      <th>attributes.CoatCheck</th>\n",
       "      <th>postal_code</th>\n",
       "      <th>attributes.Smoking</th>\n",
       "      <th>hours.Thursday</th>\n",
       "      <th>attributes.DietaryRestrictions</th>\n",
       "      <th>city</th>\n",
       "      <th>...</th>\n",
       "      <th>attributes.RestaurantsAttire</th>\n",
       "      <th>hours.Sunday</th>\n",
       "      <th>attributes.GoodForMeal</th>\n",
       "      <th>attributes.GoodForDancing</th>\n",
       "      <th>attributes.AcceptsInsurance</th>\n",
       "      <th>attributes.RestaurantsReservations</th>\n",
       "      <th>attributes</th>\n",
       "      <th>attributes.RestaurantsTakeOut</th>\n",
       "      <th>attributes.BikeParking</th>\n",
       "      <th>attributes.OutdoorSeating</th>\n",
       "    </tr>\n",
       "  </thead>\n",
       "  <tbody>\n",
       "    <tr>\n",
       "      <th>0</th>\n",
       "      <td>11:0-21:0</td>\n",
       "      <td>False</td>\n",
       "      <td>NaN</td>\n",
       "      <td>NaN</td>\n",
       "      <td>NaN</td>\n",
       "      <td>T2E 6L6</td>\n",
       "      <td>NaN</td>\n",
       "      <td>11:0-21:0</td>\n",
       "      <td>NaN</td>\n",
       "      <td>Calgary</td>\n",
       "      <td>...</td>\n",
       "      <td>casual</td>\n",
       "      <td>NaN</td>\n",
       "      <td>NaN</td>\n",
       "      <td>NaN</td>\n",
       "      <td>NaN</td>\n",
       "      <td>True</td>\n",
       "      <td>{'BusinessParking': \"{'garage': False, 'street...</td>\n",
       "      <td>True</td>\n",
       "      <td>False</td>\n",
       "      <td>False</td>\n",
       "    </tr>\n",
       "  </tbody>\n",
       "</table>\n",
       "<p>1 rows × 61 columns</p>\n",
       "</div>"
      ],
      "text/plain": [
       "  hours.Wednesday attributes.RestaurantsDelivery attributes.Open24Hours  \\\n",
       "0       11:0-21:0                          False                    NaN   \n",
       "\n",
       "  attributes.DogsAllowed attributes.CoatCheck postal_code attributes.Smoking  \\\n",
       "0                    NaN                  NaN     T2E 6L6                NaN   \n",
       "\n",
       "  hours.Thursday attributes.DietaryRestrictions     city  ...  \\\n",
       "0      11:0-21:0                            NaN  Calgary  ...   \n",
       "\n",
       "  attributes.RestaurantsAttire hours.Sunday attributes.GoodForMeal  \\\n",
       "0                       casual          NaN                    NaN   \n",
       "\n",
       "  attributes.GoodForDancing attributes.AcceptsInsurance  \\\n",
       "0                       NaN                         NaN   \n",
       "\n",
       "   attributes.RestaurantsReservations  \\\n",
       "0                                True   \n",
       "\n",
       "                                          attributes  \\\n",
       "0  {'BusinessParking': \"{'garage': False, 'street...   \n",
       "\n",
       "  attributes.RestaurantsTakeOut  attributes.BikeParking  \\\n",
       "0                          True                   False   \n",
       "\n",
       "  attributes.OutdoorSeating  \n",
       "0                     False  \n",
       "\n",
       "[1 rows x 61 columns]"
      ]
     },
     "execution_count": 36,
     "metadata": {},
     "output_type": "execute_result"
    }
   ],
   "source": [
    "business_data = pd.read_csv('../business.csv')\n",
    "business_data.head(1)"
   ]
  },
  {
   "cell_type": "code",
   "execution_count": 37,
   "metadata": {},
   "outputs": [],
   "source": [
    "business_data.set_index('business_id', inplace = True)"
   ]
  },
  {
   "cell_type": "code",
   "execution_count": 52,
   "metadata": {},
   "outputs": [],
   "source": [
    "def get_restaurant_data(review_data, business_data):\n",
    "    review_data['city'] = review_data.apply(lambda x: business_data.loc[x['business_id'], 'city'], axis=1)\n",
    "    review_data['cat'] = review_data.apply(lambda x: business_data.loc[x['business_id'], 'categories'], axis=1)\n",
    "    restaurant_reviews = review_data[review_data['cat'].str.contains(\"Restaurants\",na=False)]\n",
    "    return restaurant_reviews"
   ]
  },
  {
   "cell_type": "code",
   "execution_count": 47,
   "metadata": {},
   "outputs": [],
   "source": [
    "def get_city_restaurant_data(city, restaurant_reviews):\n",
    "    city_rest_data = restaurant_reviews.loc[review_data['city'] == city]\n",
    "    return city_rest_data"
   ]
  },
  {
   "cell_type": "code",
   "execution_count": 91,
   "metadata": {},
   "outputs": [],
   "source": [
    "def build_sparse_matrix(df):\n",
    "    users = list(df['user_id'].unique())\n",
    "    rests = list(df['business_id'].unique())\n",
    "    data = df['stars'].tolist()\n",
    "    row = df['user_id'].astype('category', categories=users).cat.codes\n",
    "    col = df['business_id'].astype('category', categories=rests).cat.codes\n",
    "    rating_matrix = csr_matrix((data, (row, col)), shape=(len(users), len(rests)))\n",
    "    return rating_matrix"
   ]
  },
  {
   "cell_type": "code",
   "execution_count": 92,
   "metadata": {},
   "outputs": [],
   "source": [
    "def split_train_test(df):\n",
    "    '''Split for train and test data'''\n",
    "    rating_matrix = build_sparse_matrix(df)\n",
    "    train, test = split_rating_matrix(rating_matrix)\n",
    "    num_train = train.shape[0]\n",
    "    num_test = test.shape[0]\n",
    "    \n",
    "    print \"Number of training samples: {}\".format(num_train)\n",
    "    print \"Number of test samples: {}\".format(num_test)\n",
    "    \n",
    "    return train, test"
   ]
  },
  {
   "cell_type": "code",
   "execution_count": null,
   "metadata": {},
   "outputs": [],
   "source": [
    "def get_sparse_matrix(df):\n",
    "    '''Converts the df into a sparse ratings matrix'''\n",
    "    unique_users = df['user_id'].unique().tolist()\n",
    "    unique_rests = df['business_id'].unique().tolist()\n",
    "    data = df['stars'].tolist()\n",
    "    row = df['user_id'].astype('category', categories=unique_users).cat.codes\n",
    "    col = df['business_id'].astype('category', categories=unique_bus).cat.codes\n",
    "    sparse_matrix = csr_matrix((data, (row, col)), shape=(len(unique_users), len(unique_rests)))\n",
    "    return sparse_matrix"
   ]
  },
  {
   "cell_type": "code",
   "execution_count": 93,
   "metadata": {},
   "outputs": [],
   "source": [
    "def split_rating_matrix(rating_matrix, samples = 2):\n",
    "    users, restaurants =  rating_matrix.nonzero()\n",
    "    test = csr_matrix(rating_matrix.shape)\n",
    "    train = rating_matrix.copy()\n",
    "\n",
    "    num_users = rating_matrix.shape[0]\n",
    "    for u in range(num_users):\n",
    "        idx = restaurants[np.where(users == u)]\n",
    "        np.random.shuffle(idx)\n",
    "        test_idx = idx[-samples:]\n",
    "        train_idx = idx[:-samples]\n",
    "        test[u,test_idx] = rating_matrix[u,test_idx]\n",
    "        train[u,test_idx] = 0\n",
    "\n",
    "    data = np.array(train[train.nonzero()])[0]\n",
    "    row = train.nonzero()[0]\n",
    "    col = train.nonzero()[1]\n",
    "    size = train.shape\n",
    "    train = csr_matrix((data,(row,col)),shape = size)\n",
    "\n",
    "    mult = train.multiply(test)\n",
    "    assert(mult.nnz == 0)\n",
    "    \n",
    "    return train, test"
   ]
  },
  {
   "cell_type": "code",
   "execution_count": 94,
   "metadata": {},
   "outputs": [],
   "source": [
    "def get_rating_matrix(city_review_data):\n",
    "    unique_users = city_review_data['user_id'].unique().tolist()\n",
    "    unique_rests = city_review_data['business_id'].unique().tolist()\n",
    "    num_user = len(unique_users)\n",
    "    num_rest = len(unique_rests)\n",
    "\n",
    "    print \"Number of Users: {}\".format(num_user)\n",
    "    print \"Number of Restaurent: {}\".format(num_rest)\n",
    "    \n",
    "    train, test = split_train_test(city_review_data)\n",
    "    return train, test"
   ]
  },
  {
   "cell_type": "code",
   "execution_count": 100,
   "metadata": {},
   "outputs": [],
   "source": [
    "#sparsity of rating matrix\n",
    "def get_sparsity(rating_matrix):\n",
    "    total_filled_values = rating_matrix.nnz\n",
    "    return 1 - float(total_filled_values)/float(rating_matrix.shape[0]*rating_matrix.shape[1])"
   ]
  },
  {
   "cell_type": "code",
   "execution_count": 96,
   "metadata": {},
   "outputs": [
    {
     "name": "stdout",
     "output_type": "stream",
     "text": [
      "Sample Data\n",
      "-----------\n",
      "                        user_id             business_id  stars\n",
      "1365815  51pZ_Jwdm4RG40TxjdpKGg  ZygcwoZYchTAaQFWiwinZg      4\n",
      "921193   wMC90PiyisLn7omSU7jMhg  K8M3OeFCcAnxuxtTc0BQrQ      4\n",
      "250235   _1xH3x70kO1l17cYftaHqA  1DP5vHxJzCDbgawv0WC3yA      3\n",
      "204897   _hsruQCw6UTnjlQiuSpScg  SV8y4bp5HmgURzvUC2Rs9w      3\n",
      "502093   1J2zVswrcASag0M34sVsFw  yNPh5SO-7wr8HPpVCDPbXQ      3\n",
      "-----------------------------\n",
      "Filtering the Restaurant data\n",
      "-----------------------------\n",
      "                  user_id             business_id  stars        city  \\\n",
      "0  0pf5VuzE4_1pwj5NJHG5TQ  vsFFbN71ehRCp46KeR5RdQ      5  Scottsdale   \n",
      "1  0pf5VuzE4_1pwj5NJHG5TQ  Jj8ubiwwuCR-rrhrrjcryw      2     Phoenix   \n",
      "2  0pf5VuzE4_1pwj5NJHG5TQ  YTbKmjGTdn4YzoJXTC1u7g      3     Gilbert   \n",
      "\n",
      "                                                 cat  \n",
      "0  American (Traditional), Breakfast & Brunch, Sa...  \n",
      "1                            Vietnamese, Restaurants  \n",
      "2  Restaurants, Beer, Wine & Spirits, Cafes, Acti...  \n",
      "-----------------------------\n",
      "restaurant reviews top 10 cities\n",
      "-----------------------------\n",
      "Las Vegas     360902\n",
      "Phoenix       151031\n",
      "Toronto       147319\n",
      "Scottsdale     81540\n",
      "Charlotte      62034\n",
      "Pittsburgh     47390\n",
      "Tempe          41916\n",
      "Henderson      40424\n",
      "Chandler       30550\n",
      "Mesa           26221\n",
      "Name: city, dtype: int64\n",
      "-----------------------------\n",
      "Number of Users: 7103\n",
      "Number of Restaurent: 2819\n"
     ]
    },
    {
     "name": "stderr",
     "output_type": "stream",
     "text": [
      "/anaconda2/envs/yelplatest/lib/python2.7/site-packages/ipykernel_launcher.py:3: FutureWarning: specifying 'categories' or 'ordered' in .astype() is deprecated; pass a CategoricalDtype instead\n",
      "  This is separate from the ipykernel package so we can avoid doing imports until\n",
      "/anaconda2/envs/yelplatest/lib/python2.7/site-packages/ipykernel_launcher.py:12: SparseEfficiencyWarning: Changing the sparsity structure of a csr_matrix is expensive. lil_matrix is more efficient.\n",
      "  if sys.path[0] == '':\n"
     ]
    },
    {
     "name": "stdout",
     "output_type": "stream",
     "text": [
      "Number of training samples: 7103\n",
      "Number of test samples: 7103\n"
     ]
    }
   ],
   "source": [
    "# reading the review data\n",
    "review_data = read_review_data('15core.csv')\n",
    "print '-----------------------------'\n",
    "print 'Filtering the Restaurant data'\n",
    "print '-----------------------------'\n",
    "restaurant_reviews = get_restaurant_data(review_data, business_data)\n",
    "print restaurant_reviews.head(3)\n",
    "print '-----------------------------'\n",
    "print 'restaurant reviews top 10 cities'\n",
    "print '-----------------------------'\n",
    "print restaurant_reviews['city'].value_counts().head(10)\n",
    "print '-----------------------------'\n",
    "toronto_15 = get_city_restaurant_data('Toronto', restaurant_reviews)\n",
    "toronto_15_train, toronto_15_test = get_rating_matrix(toronto_15)"
   ]
  },
  {
   "cell_type": "code",
   "execution_count": 97,
   "metadata": {},
   "outputs": [
    {
     "name": "stdout",
     "output_type": "stream",
     "text": [
      "(7103, 2819)\n",
      "(7103, 2819)\n"
     ]
    }
   ],
   "source": [
    "print toronto_15_train.shape\n",
    "print toronto_15_test.shape"
   ]
  },
  {
   "cell_type": "code",
   "execution_count": 101,
   "metadata": {},
   "outputs": [
    {
     "name": "stdout",
     "output_type": "stream",
     "text": [
      "0.993325245112\n"
     ]
    }
   ],
   "source": [
    "print get_sparsity(toronto_15_train)"
   ]
  },
  {
   "cell_type": "code",
   "execution_count": 115,
   "metadata": {},
   "outputs": [],
   "source": [
    "def fill_missing_with_mean(matrix):\n",
    "    dense = matrix.toarray()\n",
    "    ndf = pd.DataFrame(dense)\n",
    "    ndf = ndf.replace(to_replace = 0, value = np.nan)\n",
    "    ndf = ndf.fillna(ndf.mean())\n",
    "    return ndf.values"
   ]
  },
  {
   "cell_type": "code",
   "execution_count": 122,
   "metadata": {},
   "outputs": [
    {
     "name": "stdout",
     "output_type": "stream",
     "text": [
      "[[ 0.45900364 -0.54099636 -1.54099636 ... -0.31877414 -0.24687872\n",
      "   0.74471792]\n",
      " [-0.11157784  0.04281088 -0.66839602 ... -0.32117379 -0.24927837\n",
      "   0.74231827]\n",
      " [-0.10191182  0.05247689 -0.65873    ... -0.31150778 -0.23961236\n",
      "   0.75198428]\n",
      " ...\n",
      " [-0.10891537  0.04547334 -0.66573356 ... -0.31851133 -0.24661591\n",
      "   0.74498073]\n",
      " [-0.11149051  0.0428982  -0.6683087  ... -0.32108647 -0.24919105\n",
      "   0.74240559]\n",
      " [-0.11167411  0.04271461 -0.66849229 ... -0.32127007 -0.24937464\n",
      "   0.742222  ]]\n"
     ]
    }
   ],
   "source": [
    "from sklearn.preprocessing import scale\n",
    "toronto_15_mean_filled = fill_missing_with_mean(toronto_15_train)\n",
    "mean_centered = scale(toronto_15_mean_filled, axis = 1, with_std=False)"
   ]
  },
  {
   "cell_type": "code",
   "execution_count": 127,
   "metadata": {},
   "outputs": [
    {
     "ename": "KeyboardInterrupt",
     "evalue": "",
     "output_type": "error",
     "traceback": [
      "\u001b[0;31m---------------------------------------------------------------------------\u001b[0m",
      "\u001b[0;31mKeyboardInterrupt\u001b[0m                         Traceback (most recent call last)",
      "\u001b[0;32m<ipython-input-127-274254e33b9f>\u001b[0m in \u001b[0;36m<module>\u001b[0;34m()\u001b[0m\n\u001b[1;32m      1\u001b[0m \u001b[0;32mfrom\u001b[0m \u001b[0msklearn\u001b[0m\u001b[0;34m.\u001b[0m\u001b[0mdecomposition\u001b[0m \u001b[0;32mimport\u001b[0m \u001b[0mPCA\u001b[0m\u001b[0;34m\u001b[0m\u001b[0m\n\u001b[1;32m      2\u001b[0m \u001b[0mtransformer\u001b[0m \u001b[0;34m=\u001b[0m \u001b[0mPCA\u001b[0m\u001b[0;34m(\u001b[0m\u001b[0mn_components\u001b[0m\u001b[0;34m=\u001b[0m\u001b[0;34m'mle'\u001b[0m\u001b[0;34m)\u001b[0m\u001b[0;34m\u001b[0m\u001b[0m\n\u001b[0;32m----> 3\u001b[0;31m \u001b[0mtransformer\u001b[0m\u001b[0;34m.\u001b[0m\u001b[0mfit\u001b[0m\u001b[0;34m(\u001b[0m\u001b[0mmean_centered\u001b[0m\u001b[0;34m)\u001b[0m\u001b[0;34m\u001b[0m\u001b[0m\n\u001b[0m\u001b[1;32m      4\u001b[0m \u001b[0;34m\u001b[0m\u001b[0m\n\u001b[1;32m      5\u001b[0m \u001b[0mfig\u001b[0m \u001b[0;34m=\u001b[0m \u001b[0mplt\u001b[0m\u001b[0;34m.\u001b[0m\u001b[0mfigure\u001b[0m\u001b[0;34m(\u001b[0m\u001b[0mfigsize\u001b[0m\u001b[0;34m=\u001b[0m\u001b[0;34m(\u001b[0m\u001b[0;36m8\u001b[0m\u001b[0;34m,\u001b[0m\u001b[0;36m5\u001b[0m\u001b[0;34m)\u001b[0m\u001b[0;34m)\u001b[0m\u001b[0;34m\u001b[0m\u001b[0m\n",
      "\u001b[0;32m/anaconda2/envs/yelplatest/lib/python2.7/site-packages/sklearn/decomposition/pca.pyc\u001b[0m in \u001b[0;36mfit\u001b[0;34m(self, X, y)\u001b[0m\n\u001b[1;32m    338\u001b[0m             \u001b[0mReturns\u001b[0m \u001b[0mthe\u001b[0m \u001b[0minstance\u001b[0m \u001b[0mitself\u001b[0m\u001b[0;34m.\u001b[0m\u001b[0;34m\u001b[0m\u001b[0m\n\u001b[1;32m    339\u001b[0m         \"\"\"\n\u001b[0;32m--> 340\u001b[0;31m         \u001b[0mself\u001b[0m\u001b[0;34m.\u001b[0m\u001b[0m_fit\u001b[0m\u001b[0;34m(\u001b[0m\u001b[0mX\u001b[0m\u001b[0;34m)\u001b[0m\u001b[0;34m\u001b[0m\u001b[0m\n\u001b[0m\u001b[1;32m    341\u001b[0m         \u001b[0;32mreturn\u001b[0m \u001b[0mself\u001b[0m\u001b[0;34m\u001b[0m\u001b[0m\n\u001b[1;32m    342\u001b[0m \u001b[0;34m\u001b[0m\u001b[0m\n",
      "\u001b[0;32m/anaconda2/envs/yelplatest/lib/python2.7/site-packages/sklearn/decomposition/pca.pyc\u001b[0m in \u001b[0;36m_fit\u001b[0;34m(self, X)\u001b[0m\n\u001b[1;32m    404\u001b[0m         \u001b[0;31m# Call different fits for either full or truncated SVD\u001b[0m\u001b[0;34m\u001b[0m\u001b[0;34m\u001b[0m\u001b[0m\n\u001b[1;32m    405\u001b[0m         \u001b[0;32mif\u001b[0m \u001b[0mself\u001b[0m\u001b[0;34m.\u001b[0m\u001b[0m_fit_svd_solver\u001b[0m \u001b[0;34m==\u001b[0m \u001b[0;34m'full'\u001b[0m\u001b[0;34m:\u001b[0m\u001b[0;34m\u001b[0m\u001b[0m\n\u001b[0;32m--> 406\u001b[0;31m             \u001b[0;32mreturn\u001b[0m \u001b[0mself\u001b[0m\u001b[0;34m.\u001b[0m\u001b[0m_fit_full\u001b[0m\u001b[0;34m(\u001b[0m\u001b[0mX\u001b[0m\u001b[0;34m,\u001b[0m \u001b[0mn_components\u001b[0m\u001b[0;34m)\u001b[0m\u001b[0;34m\u001b[0m\u001b[0m\n\u001b[0m\u001b[1;32m    407\u001b[0m         \u001b[0;32melif\u001b[0m \u001b[0mself\u001b[0m\u001b[0;34m.\u001b[0m\u001b[0m_fit_svd_solver\u001b[0m \u001b[0;32min\u001b[0m \u001b[0;34m[\u001b[0m\u001b[0;34m'arpack'\u001b[0m\u001b[0;34m,\u001b[0m \u001b[0;34m'randomized'\u001b[0m\u001b[0;34m]\u001b[0m\u001b[0;34m:\u001b[0m\u001b[0;34m\u001b[0m\u001b[0m\n\u001b[1;32m    408\u001b[0m             \u001b[0;32mreturn\u001b[0m \u001b[0mself\u001b[0m\u001b[0;34m.\u001b[0m\u001b[0m_fit_truncated\u001b[0m\u001b[0;34m(\u001b[0m\u001b[0mX\u001b[0m\u001b[0;34m,\u001b[0m \u001b[0mn_components\u001b[0m\u001b[0;34m,\u001b[0m \u001b[0mself\u001b[0m\u001b[0;34m.\u001b[0m\u001b[0m_fit_svd_solver\u001b[0m\u001b[0;34m)\u001b[0m\u001b[0;34m\u001b[0m\u001b[0m\n",
      "\u001b[0;32m/anaconda2/envs/yelplatest/lib/python2.7/site-packages/sklearn/decomposition/pca.pyc\u001b[0m in \u001b[0;36m_fit_full\u001b[0;34m(self, X, n_components)\u001b[0m\n\u001b[1;32m    450\u001b[0m         \u001b[0;32mif\u001b[0m \u001b[0mn_components\u001b[0m \u001b[0;34m==\u001b[0m \u001b[0;34m'mle'\u001b[0m\u001b[0;34m:\u001b[0m\u001b[0;34m\u001b[0m\u001b[0m\n\u001b[1;32m    451\u001b[0m             \u001b[0mn_components\u001b[0m \u001b[0;34m=\u001b[0m\u001b[0;31m \u001b[0m\u001b[0;31m\\\u001b[0m\u001b[0;34m\u001b[0m\u001b[0m\n\u001b[0;32m--> 452\u001b[0;31m                 \u001b[0m_infer_dimension_\u001b[0m\u001b[0;34m(\u001b[0m\u001b[0mexplained_variance_\u001b[0m\u001b[0;34m,\u001b[0m \u001b[0mn_samples\u001b[0m\u001b[0;34m,\u001b[0m \u001b[0mn_features\u001b[0m\u001b[0;34m)\u001b[0m\u001b[0;34m\u001b[0m\u001b[0m\n\u001b[0m\u001b[1;32m    453\u001b[0m         \u001b[0;32melif\u001b[0m \u001b[0;36m0\u001b[0m \u001b[0;34m<\u001b[0m \u001b[0mn_components\u001b[0m \u001b[0;34m<\u001b[0m \u001b[0;36m1.0\u001b[0m\u001b[0;34m:\u001b[0m\u001b[0;34m\u001b[0m\u001b[0m\n\u001b[1;32m    454\u001b[0m             \u001b[0;31m# number of components for which the cumulated explained\u001b[0m\u001b[0;34m\u001b[0m\u001b[0;34m\u001b[0m\u001b[0m\n",
      "\u001b[0;32m/anaconda2/envs/yelplatest/lib/python2.7/site-packages/sklearn/decomposition/pca.pyc\u001b[0m in \u001b[0;36m_infer_dimension_\u001b[0;34m(spectrum, n_samples, n_features)\u001b[0m\n\u001b[1;32m    100\u001b[0m     \u001b[0mll\u001b[0m \u001b[0;34m=\u001b[0m \u001b[0mnp\u001b[0m\u001b[0;34m.\u001b[0m\u001b[0mempty\u001b[0m\u001b[0;34m(\u001b[0m\u001b[0mn_spectrum\u001b[0m\u001b[0;34m)\u001b[0m\u001b[0;34m\u001b[0m\u001b[0m\n\u001b[1;32m    101\u001b[0m     \u001b[0;32mfor\u001b[0m \u001b[0mrank\u001b[0m \u001b[0;32min\u001b[0m \u001b[0mrange\u001b[0m\u001b[0;34m(\u001b[0m\u001b[0mn_spectrum\u001b[0m\u001b[0;34m)\u001b[0m\u001b[0;34m:\u001b[0m\u001b[0;34m\u001b[0m\u001b[0m\n\u001b[0;32m--> 102\u001b[0;31m         \u001b[0mll\u001b[0m\u001b[0;34m[\u001b[0m\u001b[0mrank\u001b[0m\u001b[0;34m]\u001b[0m \u001b[0;34m=\u001b[0m \u001b[0m_assess_dimension_\u001b[0m\u001b[0;34m(\u001b[0m\u001b[0mspectrum\u001b[0m\u001b[0;34m,\u001b[0m \u001b[0mrank\u001b[0m\u001b[0;34m,\u001b[0m \u001b[0mn_samples\u001b[0m\u001b[0;34m,\u001b[0m \u001b[0mn_features\u001b[0m\u001b[0;34m)\u001b[0m\u001b[0;34m\u001b[0m\u001b[0m\n\u001b[0m\u001b[1;32m    103\u001b[0m     \u001b[0;32mreturn\u001b[0m \u001b[0mll\u001b[0m\u001b[0;34m.\u001b[0m\u001b[0margmax\u001b[0m\u001b[0;34m(\u001b[0m\u001b[0;34m)\u001b[0m\u001b[0;34m\u001b[0m\u001b[0m\n\u001b[1;32m    104\u001b[0m \u001b[0;34m\u001b[0m\u001b[0m\n",
      "\u001b[0;32m/anaconda2/envs/yelplatest/lib/python2.7/site-packages/sklearn/decomposition/pca.pyc\u001b[0m in \u001b[0;36m_assess_dimension_\u001b[0;34m(spectrum, rank, n_samples, n_features)\u001b[0m\n\u001b[1;32m     85\u001b[0m         \u001b[0;32mfor\u001b[0m \u001b[0mj\u001b[0m \u001b[0;32min\u001b[0m \u001b[0mrange\u001b[0m\u001b[0;34m(\u001b[0m\u001b[0mi\u001b[0m \u001b[0;34m+\u001b[0m \u001b[0;36m1\u001b[0m\u001b[0;34m,\u001b[0m \u001b[0mlen\u001b[0m\u001b[0;34m(\u001b[0m\u001b[0mspectrum\u001b[0m\u001b[0;34m)\u001b[0m\u001b[0;34m)\u001b[0m\u001b[0;34m:\u001b[0m\u001b[0;34m\u001b[0m\u001b[0m\n\u001b[1;32m     86\u001b[0m             pa += log((spectrum[i] - spectrum[j]) *\n\u001b[0;32m---> 87\u001b[0;31m                       (1. / spectrum_[j] - 1. / spectrum_[i])) + log(n_samples)\n\u001b[0m\u001b[1;32m     88\u001b[0m \u001b[0;34m\u001b[0m\u001b[0m\n\u001b[1;32m     89\u001b[0m     \u001b[0mll\u001b[0m \u001b[0;34m=\u001b[0m \u001b[0mpu\u001b[0m \u001b[0;34m+\u001b[0m \u001b[0mpl\u001b[0m \u001b[0;34m+\u001b[0m \u001b[0mpv\u001b[0m \u001b[0;34m+\u001b[0m \u001b[0mpp\u001b[0m \u001b[0;34m-\u001b[0m \u001b[0mpa\u001b[0m \u001b[0;34m/\u001b[0m \u001b[0;36m2.\u001b[0m \u001b[0;34m-\u001b[0m \u001b[0mrank\u001b[0m \u001b[0;34m*\u001b[0m \u001b[0mlog\u001b[0m\u001b[0;34m(\u001b[0m\u001b[0mn_samples\u001b[0m\u001b[0;34m)\u001b[0m \u001b[0;34m/\u001b[0m \u001b[0;36m2.\u001b[0m\u001b[0;34m\u001b[0m\u001b[0m\n",
      "\u001b[0;31mKeyboardInterrupt\u001b[0m: "
     ]
    }
   ],
   "source": [
    "from sklearn.decomposition import PCA\n",
    "transformer = PCA(n_components='mle')\n",
    "transformer.fit(mean_centered) \n",
    "\n",
    "fig = plt.figure(figsize=(8,5))\n",
    "plt.plot(transformer.explained_variance_, '-', linewidth=1)\n",
    "plt.title('Elbow Plot')\n",
    "# plt.xticks(np.arange(0, S_phx_res.shape[0]+1, 50), rotation='vertical')\n",
    "plt.xlabel('Principal Component')\n",
    "plt.ylabel('Singular Values')\n",
    "plt.show()"
   ]
  },
  {
   "cell_type": "code",
   "execution_count": null,
   "metadata": {},
   "outputs": [],
   "source": []
  }
 ],
 "metadata": {
  "kernelspec": {
   "display_name": "Python 2",
   "language": "python",
   "name": "python2"
  },
  "language_info": {
   "codemirror_mode": {
    "name": "ipython",
    "version": 2
   },
   "file_extension": ".py",
   "mimetype": "text/x-python",
   "name": "python",
   "nbconvert_exporter": "python",
   "pygments_lexer": "ipython2",
   "version": "2.7.16"
  }
 },
 "nbformat": 4,
 "nbformat_minor": 2
}
